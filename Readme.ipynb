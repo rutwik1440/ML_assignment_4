{
 "cells": [
  {
   "cell_type": "markdown",
   "metadata": {},
   "source": [
    "\n",
    "\n",
    "![alt text](<Screenshot 2024-04-15 at 1.46.02 AM.png>)"
   ]
  },
  {
   "cell_type": "markdown",
   "metadata": {},
   "source": []
  },
  {
   "cell_type": "markdown",
   "metadata": {},
   "source": [
    "## Are the results as expected? Why or why not?\n",
    "\n",
    "Yes results are as expeceted. \n",
    "VGG1 model is basic model with one conv and one pooling layer. So that model gives accuracy near 70%\n",
    "\n",
    "When we shift to VGG3 model conv and pooling layers are increased so that learning capabilty of model is increased along with accuracy i.e. 73%\n",
    "\n",
    "As we keep on increasing the layers in the model we can see that model is classifying with better accuracy. VGG16 model with tuning only mlp layers achieves accuracy of nearly 100%."
   ]
  },
  {
   "cell_type": "markdown",
   "metadata": {},
   "source": [
    "## Does data augmentation help? Why or why not?\n",
    "\n",
    "Yes, data augmentation is helping here. Main objectives of data augementaion are \n",
    "1. Increasing the size and make variations in data\n",
    "2. Data augmentation introduces variability and diversity in the training data, helping the model generalize better. And in turn helps to reduce the overfitting. \n",
    "3. When a model is trained on limited data, it might memorize the training examples and perform poorly on new, unseen data (overfitting)\n",
    "4. Improves the model;s overall performance \n",
    "\n",
    "So here accuracy of the test data is increasing to 75 in case of data augmentaion. Beacuse of the above mensioned reasons. "
   ]
  },
  {
   "cell_type": "markdown",
   "metadata": {},
   "source": [
    "## Does it matter how many epochs you fine tune the model? Why or why not?\n",
    "Yes, When we increase the epochs training and testing accuracy is increasing. But after certain point the training accurcy will increase but testing accuracy might deacrease due to overfitting. "
   ]
  },
  {
   "cell_type": "markdown",
   "metadata": {},
   "source": [
    "##  Are there any particular images that the model is confused about? Why or why not?\n",
    "\n",
    "Yes, there are some images models(basic models VGG1, VGG3) are confused about. Because in some images color of rabbit and color of squirrel is matching and due to which models are unable to differentiate between the images. Some images are also little bit unclear because of which also model is giving wrong predictions. \n",
    "\n",
    "For models like VGG16 with pretrained weights models is giving very good classification and it is not confused about images. As weights of the VGG16 model are learned on Imagenet like big dataset. So it is classifing out dataset perfectly."
   ]
  },
  {
   "cell_type": "markdown",
   "metadata": {},
   "source": []
  },
  {
   "cell_type": "markdown",
   "metadata": {},
   "source": [
    "### Now, create a MLP model with a comparable number of parameters as VGG16 and compare your performance with the other models in the table. You can choose the distribution of the number of neurons and the number of layers. What can you conclude?\n",
    "\n",
    "This MLP model is performing better that some basic VGG models like VGG1 and VGG3 because those are pretty basic models with 2-3 conv layers but MLP models is very deep. But When we compare it to VGG16 (with comparable parameters) model with pretrained weights it performs less good. As there Convolutional networks have some properties which makes them better for images like dataset. such as \n",
    "\n",
    "1. Parameter Efficiency: Due to the shared weights and local connectivity in convolutional layers, CNNs require significantly fewer parameters than fully connected networks. \n",
    "2. Pooling Layers: CNNs often include pooling layers (such as max pooling or average pooling) that reduce the spatial dimensions of the input and allow the network to focus on the most important features (feature extraction)\n",
    "3.Spatial Hierarchy: CNNs are designed to take advantage of the spatial hierarchy in images. They apply convolutional layers that use small filters to learn features from local areas of the image. This allows CNNs to detect patterns like edges, textures, and shapes. \n",
    "\n",
    "MLP model is giving near to 85% accuracy. And VGG16 pretrained model is giving near to 100% accuracy. \n"
   ]
  },
  {
   "cell_type": "markdown",
   "metadata": {},
   "source": []
  },
  {
   "cell_type": "markdown",
   "metadata": {},
   "source": []
  }
 ],
 "metadata": {
  "language_info": {
   "name": "python"
  }
 },
 "nbformat": 4,
 "nbformat_minor": 2
}
